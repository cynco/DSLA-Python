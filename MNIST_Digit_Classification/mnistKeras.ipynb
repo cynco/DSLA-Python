{
 "cells": [
  {
   "cell_type": "markdown",
   "metadata": {},
   "source": [
    "# Handwritten Digit Recognition using Convolutional Neural Networks in Python with Keras\n",
    "\n",
    "The mnist project is the \"Hello World\" of object recognition. It is a great illustration of what can be acomplished with neural network algorithms. \n",
    "\n",
    "The mnist dataset is large and highly pre-processed, making it easy to get started and even simple models produce prediction errors of 2% or less. The data consists of pixel values for 70,000 handwritten digits 0 - 9 from many scanned documents. 10,000 of the scanned digits are separated out as the test set.\n",
    "\n",
    "We will try to classify each digit datum as one of the digits from 0 to 9. That makes this a multi-class classification problem.\n",
    "\n",
    "\n",
    "Here, we follow the procedure presented by Jason Brownlee in his [blog] *Machine Learning Mastery*.\n",
    "[blog]: http://machinelearningmastery.com/handwritten-digit-recognition-using-convolutional-neural-networks-python-keras/\n",
    "\n",
    "\n",
    "Your challenge, should you choose to accept it, is to to push prediction error below 2%. For comparison, state-of-the-art mnist studies achieve accuracies of 0.2%. \n",
    "\n",
    "There are many other examples of mnist analysis published to the web, including from Kaggle competitions, from which you can learn and guide your thinking.\n",
    "\n",
    "Start out by watching this excellent and friendly introduction [video] to Neural Networks.\n",
    "[video]:https://www.youtube.com/watch?v=bxe2T-V8XRs\n",
    "\n",
    "Remember that you'll be expected to speak about every part of this project.\n"
   ]
  },
  {
   "cell_type": "markdown",
   "metadata": {},
   "source": [
    "Keras provides convenient functions to develop deep-learning models. Keras relies on either Theano or Tensorflow to carry out low-level operations such as tensor operations.   \n",
    "\n",
    "You will need to install the keras package (tensorflow will automatically also get installed).\n",
    "At the terminal prompt, type:  \n",
    "\"conda install keras\"   \n",
    "or  \n",
    "\"pip install keras\"  "
   ]
  },
  {
   "cell_type": "code",
   "execution_count": 2,
   "metadata": {
    "collapsed": false,
    "scrolled": true
   },
   "outputs": [
    {
     "name": "stderr",
     "output_type": "stream",
     "text": [
      "Using TensorFlow backend.\n"
     ]
    }
   ],
   "source": [
    "# Plot ad hoc mnist instances\n",
    "from keras.datasets import mnist\n",
    "import matplotlib.pyplot as plt"
   ]
  },
  {
   "cell_type": "markdown",
   "metadata": {},
   "source": [
    "A copy of the mnist dataset can be downloaded from Amazon AWS Simple Storage Service (S3). \n",
    "\n",
    "You can find several other datasets that are publicly available for use in machine learning projects at https://aws.amazon.com/public-datasets/"
   ]
  },
  {
   "cell_type": "code",
   "execution_count": 3,
   "metadata": {
    "collapsed": false
   },
   "outputs": [
    {
     "name": "stdout",
     "output_type": "stream",
     "text": [
      "Downloading data from https://s3.amazonaws.com/img-datasets/mnist.npz\n"
     ]
    }
   ],
   "source": [
    "# load (downloaded if needed) the MNIST dataset\n",
    "(X_train, y_train), (X_test, y_test) = mnist.load_data()"
   ]
  },
  {
   "cell_type": "markdown",
   "metadata": {},
   "source": [
    "Let's begin by seeing how the data looks. Each entry contains a value for each pixel in a 28 x 28 pixel square. The handwritten digits come from many scanned documents and each digit has been scaled and centered.\n",
    "\n",
    "You may want to plot more of the data later in your analysis, as you try to optimize the analysis for detailed aspects of the data."
   ]
  },
  {
   "cell_type": "code",
   "execution_count": 5,
   "metadata": {
    "collapsed": false
   },
   "outputs": [
    {
     "data": {
      "image/png": "[encoded data removed]",
      "text/plain": [
       "<matplotlib.figure.Figure at 0x11f072588>"
      ]
     },
     "metadata": {},
     "output_type": "display_data"
    }
   ],
   "source": [
    "# plot 4 images as gray scale\n",
    "plt.subplot(221)    #first plot of a 2x2 array\n",
    "plt.imshow(X_train[0], cmap=plt.get_cmap('gray'))\n",
    "plt.subplot(222)\n",
    "plt.imshow(X_train[1], cmap=plt.get_cmap('gray'))\n",
    "plt.subplot(223)\n",
    "plt.imshow(X_train[2], cmap=plt.get_cmap('gray'))\n",
    "plt.subplot(224)\n",
    "plt.imshow(X_train[3], cmap=plt.get_cmap('gray'))\n",
    "# show the plot\n",
    "plt.show()"
   ]
  },
  {
   "cell_type": "markdown",
   "metadata": {},
   "source": [
    "The package [keras] provides a user friendly API to implement neural networks models. We use the Sequential model, which is a linear stack of layers. To learn how to implement more complex architectures, you should use the Keras functional API. It allows you to build arbitrary graphs of layers. \n",
    "[keras]:https://keras.io/getting-started/functional-api-guide/"
   ]
  },
  {
   "cell_type": "code",
   "execution_count": 6,
   "metadata": {
    "collapsed": true
   },
   "outputs": [],
   "source": [
    "import numpy\n",
    "from keras.datasets import mnist\n",
    "from keras.models import Sequential\n",
    "from keras.layers import Dense\n",
    "from keras.layers import Dropout\n",
    "from keras.utils import np_utils"
   ]
  },
  {
   "cell_type": "markdown",
   "metadata": {},
   "source": [
    "We start by [setting a random seed] so that every invocation of random numbers will give the same set. This allows us to exactly reproduce the results from one run to the next.\n",
    "[setting a random seed]: http://stackoverflow.com/questions/21494489/what-does-numpy-random-seed0-do"
   ]
  },
  {
   "cell_type": "code",
   "execution_count": 7,
   "metadata": {
    "collapsed": true
   },
   "outputs": [],
   "source": [
    "# fix random seed for reproducibility\n",
    "seed = 7\n",
    "numpy.random.seed(seed)"
   ]
  },
  {
   "cell_type": "code",
   "execution_count": 8,
   "metadata": {
    "collapsed": true
   },
   "outputs": [],
   "source": [
    "# load data\n",
    "(X_train, y_train), (X_test, y_test) = mnist.load_data()"
   ]
  },
  {
   "cell_type": "markdown",
   "metadata": {},
   "source": [
    "The data comes in a 3-D array. Each row corresponds to a different scanned digit. For each row, there is a 2-D array of pixel input values representing the area of a 28x28 pixel square.\n",
    "\n",
    "We start by analyzing our data with Keras' simplest model, the Sequential model. Learn more about the Sequential model and see [examples]. \n",
    "[examples]:https://keras.io/getting-started/sequential-model-guide/\n",
    "\n",
    "This multi-layer perceptron model requires a 1-D array. We flatten it using the reshape() function.\n",
    "\n",
    "We change pixel values to 32 bit type so that running our script requires less memory."
   ]
  },
  {
   "cell_type": "code",
   "execution_count": 9,
   "metadata": {
    "collapsed": true
   },
   "outputs": [],
   "source": [
    "# flatten 28*28 images to a 784 vector for each image\n",
    "num_pixels = X_train.shape[1] * X_train.shape[2]\n",
    "X_train = X_train.reshape(X_train.shape[0], num_pixels).astype('float32')\n",
    "X_test = X_test.reshape(X_test.shape[0], num_pixels).astype('float32')\n"
   ]
  },
  {
   "cell_type": "markdown",
   "metadata": {},
   "source": [
    "It is a good idea to normalize input values whenever possible so that you can deal with values from 0 to 1. Many neural network models require it. To normalize, simply divide each value by the maximum possible value. \n",
    "\n",
    "Sometimes you will be able to improve your model results by finding a better normalization scheme. "
   ]
  },
  {
   "cell_type": "code",
   "execution_count": 10,
   "metadata": {
    "collapsed": true
   },
   "outputs": [],
   "source": [
    "# normalize inputs from 0-255 to 0-1\n",
    "X_train = X_train / 255\n",
    "X_test = X_test / 255"
   ]
  },
  {
   "cell_type": "markdown",
   "metadata": {},
   "source": [
    "To further reduce memory requirements, we will convert the vector, or array, of the tend different class integers (0,1,2,3,...) into a binary matrix with just 0s and 1s.\n",
    "\n",
    "This is called \"one hot encoding;\" it transforms categorical features to a format that works better with classification and regression algorithms. \n",
    "\n",
    "Suppose you have ‘color’ feature which can take values ‘green’, ‘red’, and ‘blue’. One hot encoding will convert this ‘color’ feature to three features, namely, ‘is_green’, ‘is_red’, and ‘is_blue’ which all are binary. See a discussion about this on [Quora].\n",
    "[Quora]:https://www.quora.com/What-is-one-hot-encoding-and-when-is-it-used-in-data-science\n",
    "\n",
    "Keras provides a built-in helper function to do the one hot encoding."
   ]
  },
  {
   "cell_type": "code",
   "execution_count": 11,
   "metadata": {
    "collapsed": true
   },
   "outputs": [],
   "source": [
    "# one hot encode outputs\n",
    "y_train = np_utils.to_categorical(y_train)\n",
    "y_test = np_utils.to_categorical(y_test)\n",
    "num_classes = y_test.shape[1]"
   ]
  },
  {
   "cell_type": "markdown",
   "metadata": {},
   "source": [
    "Let's now define a baseline model. This first model is a simple multi-layer perceptron model. Here, we choose the neural network model parameters that can give us the best accuracy for a feasible computational cost.\n",
    "\n",
    "It will be useful to define the model in a function so that we can obtain the model results again later without having to re-run the model. We can also use this function later to extend the model to improve our accuracy.\n",
    "\n",
    "We use a simple neural network model with one hidden layer with one neuron per input (28^2). For the neurons in the hidden layer, we use a rectifier activation function. Check out the explanation of neural networks for a 5-year old [here].\n",
    "[here]:https://stats.stackexchange.com/questions/63152/what-does-the-hidden-layer-in-a-neural-network-compute\n",
    "\n",
    "This is an excellent [introduction] to neural networks. \n",
    "[introduction]:https://www.cheshireeng.com/Neuralyst/nnbg.htm\n",
    "\n",
    "One hidden layer is sufficient for the large majority of problems, and adding more layers can slow down your run considerably. \n",
    "\n",
    "The number of neurons should usually be between the number of input points and the number of output points. Read [more].\n",
    "[more]:https://web.archive.org/web/20140721050413/http://www.heatonresearch.com/node/707\n",
    "\n",
    "For the neurons in the hidden layer, we use a rectifier activation function. Other options are tanh, sigmoid, and softplus activation functions. The activation function maps the inputs to the hidden layer output. More specifically, it produces a non-linear decision boundary via non-linear combinations of the weighted inputs. \n",
    "\n",
    "To learn the weights, we use the ADAM gradient descent algorithm, because it is highly efficient. For every neuron, j, in a layer, each of the i inputs, Xi, to that layer is multiplied by a previously established weight, wij.\n",
    "\n",
    "For the neurons in the output layer, we use a softmax activation function. This function makes our outputs go from 0 to 1.0 probability values for each 0-9 digit and then selects the digit corresponding to the highest probability.\n",
    "\n",
    "For a loss function, we use the Logarithmic type of loss function (called categorical_crossentropy in Keras).\n",
    "\n",
    "This comprehensive Neural Networks [FAQ] is enough to make anyone an expert on NNs.\n",
    "[FAQ]:ftp://ftp.sas.com/pub/neural/FAQ.html"
   ]
  },
  {
   "cell_type": "code",
   "execution_count": 12,
   "metadata": {
    "collapsed": true
   },
   "outputs": [],
   "source": [
    "# define baseline model\n",
    "def baseline_model():\n",
    "\t# create model\n",
    "\tmodel = Sequential()\n",
    "\tmodel.add(Dense(num_pixels, input_dim=num_pixels, kernel_initializer='normal', activation='relu'))\n",
    "\tmodel.add(Dense(num_classes, kernel_initializer='normal', activation='softmax'))\n",
    "\t# Compile model\n",
    "\tmodel.compile(loss='categorical_crossentropy', optimizer='adam', metrics=['accuracy'])\n",
    "\treturn model"
   ]
  },
  {
   "cell_type": "markdown",
   "metadata": {},
   "source": [
    "We're finally ready to train and evaluate our model!\n",
    "\n",
    "To avoid exceeding our available memory, we will split the process into 10 epochs, each of which fits the model against 200 images.\n",
    "\n",
    "We set the test data as the validation dataset, so that we can see model performance metrics after each epoch.\n",
    "\n",
    "We evaluate the model and print a classification error rate. You should get an error rate below 1.9%"
   ]
  },
  {
   "cell_type": "code",
   "execution_count": 13,
   "metadata": {
    "collapsed": false,
    "scrolled": true
   },
   "outputs": [
    {
     "name": "stdout",
     "output_type": "stream",
     "text": [
      "Train on 60000 samples, validate on 10000 samples\n",
      "Epoch 1/10\n",
      "16s - loss: 0.2783 - acc: 0.9211 - val_loss: 0.1411 - val_acc: 0.9572\n",
      "Epoch 2/10\n",
      "18s - loss: 0.1115 - acc: 0.9676 - val_loss: 0.0921 - val_acc: 0.9705\n",
      "Epoch 3/10\n",
      "14s - loss: 0.0718 - acc: 0.9795 - val_loss: 0.0789 - val_acc: 0.9764\n",
      "Epoch 4/10\n",
      "14s - loss: 0.0504 - acc: 0.9859 - val_loss: 0.0762 - val_acc: 0.9763\n",
      "Epoch 5/10\n",
      "14s - loss: 0.0373 - acc: 0.9894 - val_loss: 0.0686 - val_acc: 0.9792\n",
      "Epoch 6/10\n",
      "14s - loss: 0.0269 - acc: 0.9927 - val_loss: 0.0637 - val_acc: 0.9800\n",
      "Epoch 7/10\n",
      "13s - loss: 0.0210 - acc: 0.9946 - val_loss: 0.0624 - val_acc: 0.9805\n",
      "Epoch 8/10\n",
      "13s - loss: 0.0140 - acc: 0.9968 - val_loss: 0.0632 - val_acc: 0.9801\n",
      "Epoch 9/10\n",
      "13s - loss: 0.0110 - acc: 0.9977 - val_loss: 0.0587 - val_acc: 0.9813\n",
      "Epoch 10/10\n",
      "13s - loss: 0.0082 - acc: 0.9984 - val_loss: 0.0594 - val_acc: 0.9821\n",
      "Baseline Error: 1.79%\n"
     ]
    }
   ],
   "source": [
    "# build the model\n",
    "model = baseline_model()\n",
    "# Fit the model\n",
    "model.fit(X_train, y_train, validation_data=(X_test, y_test), epochs=10, batch_size=200, verbose=2)\n",
    "# Final evaluation of the model\n",
    "scores = model.evaluate(X_test, y_test, verbose=0)\n",
    "print(\"Baseline Error: %.2f%%\" % (100-scores[1]*100))\n",
    "\n",
    "# Epoch 8/10\n",
    "# 13s - loss: 0.0140 - acc: 0.9968 - val_loss: 0.0632 - val_acc: 0.9801\n",
    "# Epoch 9/10\n",
    "# 13s - loss: 0.0110 - acc: 0.9977 - val_loss: 0.0587 - val_acc: 0.9813\n",
    "# Epoch 10/10\n",
    "# 13s - loss: 0.0082 - acc: 0.9984 - val_loss: 0.0594 - val_acc: 0.9821\n",
    "# Baseline Error: 1.79%"
   ]
  },
  {
   "cell_type": "markdown",
   "metadata": {},
   "source": [
    "Many people have managed to classify their own hand-written digits with mnist-trained models. Recall that we chose mnist dataset because it was highly pre-processed. Understandibly, getting your data to be similar to the mnist inputs would involve a good amount of pre-processing. The loaded image must have the exact same dimensions as the data used to fit the model. For the Sequential model, you'd want to use X = X.reshape(1,784). \n",
    "You would load your image data as numpy arrays and pre-process it directly. The [sklearn.preprocessing] package provides many useful functions for this.\n",
    "[sklearn.preprocessing]: http://scikit-learn.org/stable/modules/preprocessing.html#preprocessing\n",
    "\n",
    "Afterwards, you would be able to make a prediction with the neural network (y = model.predict(x)) and use the numpy argmax() function to convert the one hot encoded output into a class index."
   ]
  },
  {
   "cell_type": "markdown",
   "metadata": {
    "collapsed": true
   },
   "source": [
    "The Keras Sequential model gave very good results despite its simplicity. Now try out other models on the mnist dataset to achieve an even better result. Although 2% error rate, there is plenty of room for improvement. For comparison, the state-of-the-art models used on the mnist dataset achieve error rates of 0.2%. \n",
    "\n",
    "Be sure that you can explain why you chose your particular model and parameters. It is key that you also avoid overfitting. As discussed in this [kdnuggets] article, one of the best ways to avoid overfitting is to have at least 30 times as many training cases as there are weights in the network. \n",
    "[kdnuggets]:http://www.kdnuggets.com/2015/04/preventing-overfitting-neural-networks.html\n",
    "\n"
   ]
  }
 ],
 "metadata": {
  "kernelspec": {
   "display_name": "Python 3",
   "language": "python",
   "name": "python3"
  },
  "language_info": {
   "codemirror_mode": {
    "name": "ipython",
    "version": 3
   },
   "file_extension": ".py",
   "mimetype": "text/x-python",
   "name": "python",
   "nbconvert_exporter": "python",
   "pygments_lexer": "ipython3",
   "version": "3.6.0"
  }
 },
 "nbformat": 4,
 "nbformat_minor": 2
}
